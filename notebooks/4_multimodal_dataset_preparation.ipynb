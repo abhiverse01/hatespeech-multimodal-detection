{
 "cells": [
  {
   "cell_type": "markdown",
   "metadata": {},
   "source": [
    "# Multi-Modal Data Preparation"
   ]
  },
  {
   "cell_type": "code",
   "execution_count": 15,
   "metadata": {},
   "outputs": [],
   "source": [
    "import pandas as pd\n",
    "import torch\n",
    "from torch.utils.data import Dataset\n",
    "from transformers import BertTokenizer\n",
    "from torch.utils.data import DataLoader\n",
    "import ast\n",
    "\n"
   ]
  },
  {
   "cell_type": "code",
   "execution_count": 6,
   "metadata": {},
   "outputs": [],
   "source": [
    "tokenizer = BertTokenizer.from_pretrained(\"bert-base-uncased\")"
   ]
  },
  {
   "cell_type": "code",
   "execution_count": 11,
   "metadata": {},
   "outputs": [
    {
     "data": {
      "text/html": [
       "<div>\n",
       "<style scoped>\n",
       "    .dataframe tbody tr th:only-of-type {\n",
       "        vertical-align: middle;\n",
       "    }\n",
       "\n",
       "    .dataframe tbody tr th {\n",
       "        vertical-align: top;\n",
       "    }\n",
       "\n",
       "    .dataframe thead th {\n",
       "        text-align: right;\n",
       "    }\n",
       "</style>\n",
       "<table border=\"1\" class=\"dataframe\">\n",
       "  <thead>\n",
       "    <tr style=\"text-align: right;\">\n",
       "      <th></th>\n",
       "      <th>tweet_text</th>\n",
       "      <th>image_path</th>\n",
       "      <th>labels</th>\n",
       "      <th>input_ids</th>\n",
       "      <th>attention_mask</th>\n",
       "      <th>transformed_image_path</th>\n",
       "    </tr>\n",
       "  </thead>\n",
       "  <tbody>\n",
       "    <tr>\n",
       "      <th>0</th>\n",
       "      <td>rt xxsugvngxx i ran into this holy nigga today</td>\n",
       "      <td>dataset/images/0.jpg</td>\n",
       "      <td>[1, 0, 0]</td>\n",
       "      <td>tensor([  101, 19387, 22038,  6342,  2290, 160...</td>\n",
       "      <td>tensor([1, 1, 1, 1, 1, 1, 1, 1, 1, 1, 1, 1, 1,...</td>\n",
       "      <td>dataset/transformed_images/0.pt</td>\n",
       "    </tr>\n",
       "    <tr>\n",
       "      <th>1</th>\n",
       "      <td>everybody calling you nigger now</td>\n",
       "      <td>dataset/images/1.jpg</td>\n",
       "      <td>[1, 0, 1]</td>\n",
       "      <td>tensor([  101,  7955,  4214,  2017,  9152, 133...</td>\n",
       "      <td>tensor([1, 1, 1, 1, 1, 1, 1, 1, 0, 0, 0, 0, 0,...</td>\n",
       "      <td>dataset/transformed_images/1.pt</td>\n",
       "    </tr>\n",
       "    <tr>\n",
       "      <th>2</th>\n",
       "      <td>fuck ice white supremacist trash all of you ar...</td>\n",
       "      <td>dataset/images/2.jpg</td>\n",
       "      <td>[5, 1, 1]</td>\n",
       "      <td>tensor([  101,  6616,  3256,  2317, 10514, 281...</td>\n",
       "      <td>tensor([1, 1, 1, 1, 1, 1, 1, 1, 1, 1, 1, 1, 1,...</td>\n",
       "      <td>dataset/transformed_images/2.pt</td>\n",
       "    </tr>\n",
       "    <tr>\n",
       "      <th>3</th>\n",
       "      <td>sissy faggot</td>\n",
       "      <td>dataset/images/3.jpg</td>\n",
       "      <td>[3, 3, 0]</td>\n",
       "      <td>tensor([  101, 24761,  6508,  6904, 13871,  41...</td>\n",
       "      <td>tensor([1, 1, 1, 1, 1, 1, 1, 0, 0, 0, 0, 0, 0,...</td>\n",
       "      <td>dataset/transformed_images/3.pt</td>\n",
       "    </tr>\n",
       "    <tr>\n",
       "      <th>4</th>\n",
       "      <td>nigga what</td>\n",
       "      <td>dataset/images/4.jpg</td>\n",
       "      <td>[4, 0, 3]</td>\n",
       "      <td>tensor([  101,  9152, 23033,  2054,   102,    ...</td>\n",
       "      <td>tensor([1, 1, 1, 1, 1, 0, 0, 0, 0, 0, 0, 0, 0,...</td>\n",
       "      <td>dataset/transformed_images/4.pt</td>\n",
       "    </tr>\n",
       "  </tbody>\n",
       "</table>\n",
       "</div>"
      ],
      "text/plain": [
       "                                          tweet_text            image_path  \\\n",
       "0     rt xxsugvngxx i ran into this holy nigga today  dataset/images/0.jpg   \n",
       "1                   everybody calling you nigger now  dataset/images/1.jpg   \n",
       "2  fuck ice white supremacist trash all of you ar...  dataset/images/2.jpg   \n",
       "3                                       sissy faggot  dataset/images/3.jpg   \n",
       "4                                         nigga what  dataset/images/4.jpg   \n",
       "\n",
       "      labels                                          input_ids  \\\n",
       "0  [1, 0, 0]  tensor([  101, 19387, 22038,  6342,  2290, 160...   \n",
       "1  [1, 0, 1]  tensor([  101,  7955,  4214,  2017,  9152, 133...   \n",
       "2  [5, 1, 1]  tensor([  101,  6616,  3256,  2317, 10514, 281...   \n",
       "3  [3, 3, 0]  tensor([  101, 24761,  6508,  6904, 13871,  41...   \n",
       "4  [4, 0, 3]  tensor([  101,  9152, 23033,  2054,   102,    ...   \n",
       "\n",
       "                                      attention_mask  \\\n",
       "0  tensor([1, 1, 1, 1, 1, 1, 1, 1, 1, 1, 1, 1, 1,...   \n",
       "1  tensor([1, 1, 1, 1, 1, 1, 1, 1, 0, 0, 0, 0, 0,...   \n",
       "2  tensor([1, 1, 1, 1, 1, 1, 1, 1, 1, 1, 1, 1, 1,...   \n",
       "3  tensor([1, 1, 1, 1, 1, 1, 1, 0, 0, 0, 0, 0, 0,...   \n",
       "4  tensor([1, 1, 1, 1, 1, 0, 0, 0, 0, 0, 0, 0, 0,...   \n",
       "\n",
       "            transformed_image_path  \n",
       "0  dataset/transformed_images/0.pt  \n",
       "1  dataset/transformed_images/1.pt  \n",
       "2  dataset/transformed_images/2.pt  \n",
       "3  dataset/transformed_images/3.pt  \n",
       "4  dataset/transformed_images/4.pt  "
      ]
     },
     "execution_count": 11,
     "metadata": {},
     "output_type": "execute_result"
    }
   ],
   "source": [
    "clean_data = pd.read_csv(\"dataset/dataset_transformed.csv\")\n",
    "clean_data.head()"
   ]
  },
  {
   "cell_type": "code",
   "execution_count": 16,
   "metadata": {},
   "outputs": [],
   "source": [
    "\n",
    "# Convert string representation of lists to actual lists\n",
    "clean_data[\"labels\"] = clean_data[\"labels\"].apply(ast.literal_eval)"
   ]
  },
  {
   "cell_type": "code",
   "execution_count": null,
   "metadata": {},
   "outputs": [],
   "source": [
    "# Creating the MultiModalDataset class\n",
    "class MultiModalDataset(Dataset):\n",
    "    def __init__(self, dataframe, tokenizer, max_length=128):\n",
    "        self.dataframe = dataframe\n",
    "        self.tokenizer = tokenizer\n",
    "        self.max_length = max_length\n",
    "\n",
    "    def __len__(self):\n",
    "        return len(self.dataframe)\n",
    "\n",
    "    def __getitem__(self, idx):\n",
    "        row = self.dataframe.iloc[idx]\n",
    "        \n",
    "        # Text data\n",
    "        text = row[\"tweet_text\"]\n",
    "        inputs = self.tokenizer(\n",
    "            text,\n",
    "            padding=\"max_length\",\n",
    "            truncation=True,\n",
    "            max_length=self.max_length,\n",
    "            return_tensors=\"pt\"\n",
    "        )\n",
    "        input_ids = inputs[\"input_ids\"].squeeze(0)\n",
    "        attention_mask = inputs[\"attention_mask\"].squeeze(0)\n",
    "        \n",
    "        # Image data\n",
    "        image_path = row[\"transformed_image_path\"]\n",
    "        image = torch.load(image_path)  # Load the transformed image tensor\n",
    "        \n",
    "        # Labels\n",
    "        labels = torch.tensor(row[\"labels\"], dtype=torch.float)\n",
    "        \n",
    "        return input_ids, attention_mask, image, labels\n",
    "\n",
    "\n",
    "\n"
   ]
  },
  {
   "cell_type": "code",
   "execution_count": 18,
   "metadata": {},
   "outputs": [],
   "source": [
    "# Create the dataset\n",
    "dataset = MultiModalDataset(clean_data, tokenizer)"
   ]
  },
  {
   "cell_type": "code",
   "execution_count": 19,
   "metadata": {},
   "outputs": [
    {
     "name": "stdout",
     "output_type": "stream",
     "text": [
      "Input IDs: torch.Size([32, 128])\n",
      "Attention Mask: torch.Size([32, 128])\n",
      "Images: torch.Size([32, 3, 224, 224])\n",
      "Labels: torch.Size([32, 3])\n"
     ]
    }
   ],
   "source": [
    "# Create the DataLoader\n",
    "dataloader = DataLoader(dataset, batch_size=32, shuffle=True)\n",
    "\n",
    "# Example: Iterate through the DataLoader\n",
    "for batch in dataloader:\n",
    "    input_ids, attention_mask, images, labels = batch\n",
    "    print(\"Input IDs:\", input_ids.shape)\n",
    "    print(\"Attention Mask:\", attention_mask.shape)\n",
    "    print(\"Images:\", images.shape)\n",
    "    print(\"Labels:\", labels.shape)\n",
    "    break"
   ]
  },
  {
   "cell_type": "code",
   "execution_count": null,
   "metadata": {},
   "outputs": [],
   "source": []
  },
  {
   "cell_type": "code",
   "execution_count": null,
   "metadata": {},
   "outputs": [],
   "source": []
  }
 ],
 "metadata": {
  "kernelspec": {
   "display_name": "base",
   "language": "python",
   "name": "python3"
  },
  "language_info": {
   "codemirror_mode": {
    "name": "ipython",
    "version": 3
   },
   "file_extension": ".py",
   "mimetype": "text/x-python",
   "name": "python",
   "nbconvert_exporter": "python",
   "pygments_lexer": "ipython3",
   "version": "3.12.4"
  }
 },
 "nbformat": 4,
 "nbformat_minor": 2
}
