{
 "cells": [
  {
   "cell_type": "markdown",
   "metadata": {},
   "source": [
    "# Multi-Modal Data Preparation"
   ]
  },
  {
   "cell_type": "code",
   "execution_count": null,
   "metadata": {},
   "outputs": [],
   "source": [
    "# Import necessary libraries\n",
    "import os\n",
    "import re\n",
    "import pandas as pd\n",
    "import torch\n",
    "from torch.utils.data import Dataset\n",
    "from transformers import BertTokenizer\n",
    "from torch.utils.data import DataLoader\n",
    "import ast\n"
   ]
  },
  {
   "cell_type": "code",
   "execution_count": null,
   "metadata": {},
   "outputs": [],
   "source": [
    "tokenizer = BertTokenizer.from_pretrained(\"bert-base-uncased\")"
   ]
  },
  {
   "cell_type": "code",
   "execution_count": 110,
   "metadata": {},
   "outputs": [
    {
     "data": {
      "text/html": [
       "<div>\n",
       "<style scoped>\n",
       "    .dataframe tbody tr th:only-of-type {\n",
       "        vertical-align: middle;\n",
       "    }\n",
       "\n",
       "    .dataframe tbody tr th {\n",
       "        vertical-align: top;\n",
       "    }\n",
       "\n",
       "    .dataframe thead th {\n",
       "        text-align: right;\n",
       "    }\n",
       "</style>\n",
       "<table border=\"1\" class=\"dataframe\">\n",
       "  <thead>\n",
       "    <tr style=\"text-align: right;\">\n",
       "      <th></th>\n",
       "      <th>tweet_text</th>\n",
       "      <th>image_path</th>\n",
       "      <th>labels</th>\n",
       "      <th>input_ids</th>\n",
       "      <th>attention_mask</th>\n",
       "      <th>transformed_image_path</th>\n",
       "    </tr>\n",
       "  </thead>\n",
       "  <tbody>\n",
       "    <tr>\n",
       "      <th>0</th>\n",
       "      <td>nigga</td>\n",
       "      <td>dataset/images/0.jpg</td>\n",
       "      <td>[4, 1, 3]</td>\n",
       "      <td>tensor([  101,  9152, 23033,   102,     0,    ...</td>\n",
       "      <td>tensor([1, 1, 1, 1, 0, 0, 0, 0, 0, 0, 0, 0, 0,...</td>\n",
       "      <td>dataset/transformed_images\\0.pt</td>\n",
       "    </tr>\n",
       "    <tr>\n",
       "      <th>1</th>\n",
       "      <td>my horses are retarded</td>\n",
       "      <td>dataset/images/1.jpg</td>\n",
       "      <td>[5, 5, 5]</td>\n",
       "      <td>tensor([ 101, 2026, 5194, 2024, 2128, 7559, 57...</td>\n",
       "      <td>tensor([1, 1, 1, 1, 1, 1, 1, 1, 0, 0, 0, 0, 0,...</td>\n",
       "      <td>dataset/transformed_images\\1.pt</td>\n",
       "    </tr>\n",
       "    <tr>\n",
       "      <th>2</th>\n",
       "      <td>nigga on ma momma youngboy be spitting real sh...</td>\n",
       "      <td>dataset/images/2.jpg</td>\n",
       "      <td>[0, 0, 0]</td>\n",
       "      <td>tensor([  101,  9152, 23033,  2006,  5003, 236...</td>\n",
       "      <td>tensor([1, 1, 1, 1, 1, 1, 1, 1, 1, 1, 1, 1, 1,...</td>\n",
       "      <td>dataset/transformed_images\\2.pt</td>\n",
       "    </tr>\n",
       "    <tr>\n",
       "      <th>3</th>\n",
       "      <td>rt xxsugvngxx i ran into this holy nigga today</td>\n",
       "      <td>dataset/images/3.jpg</td>\n",
       "      <td>[1, 0, 0]</td>\n",
       "      <td>tensor([  101, 19387, 22038,  6342,  2290, 160...</td>\n",
       "      <td>tensor([1, 1, 1, 1, 1, 1, 1, 1, 1, 1, 1, 1, 1,...</td>\n",
       "      <td>dataset/transformed_images\\3.pt</td>\n",
       "    </tr>\n",
       "    <tr>\n",
       "      <th>4</th>\n",
       "      <td>everybody calling you nigger now</td>\n",
       "      <td>dataset/images/4.jpg</td>\n",
       "      <td>[1, 0, 1]</td>\n",
       "      <td>tensor([  101,  7955,  4214,  2017,  9152, 133...</td>\n",
       "      <td>tensor([1, 1, 1, 1, 1, 1, 1, 1, 0, 0, 0, 0, 0,...</td>\n",
       "      <td>dataset/transformed_images\\4.pt</td>\n",
       "    </tr>\n",
       "  </tbody>\n",
       "</table>\n",
       "</div>"
      ],
      "text/plain": [
       "                                          tweet_text            image_path  \\\n",
       "0                                              nigga  dataset/images/0.jpg   \n",
       "1                             my horses are retarded  dataset/images/1.jpg   \n",
       "2  nigga on ma momma youngboy be spitting real sh...  dataset/images/2.jpg   \n",
       "3     rt xxsugvngxx i ran into this holy nigga today  dataset/images/3.jpg   \n",
       "4                   everybody calling you nigger now  dataset/images/4.jpg   \n",
       "\n",
       "      labels                                          input_ids  \\\n",
       "0  [4, 1, 3]  tensor([  101,  9152, 23033,   102,     0,    ...   \n",
       "1  [5, 5, 5]  tensor([ 101, 2026, 5194, 2024, 2128, 7559, 57...   \n",
       "2  [0, 0, 0]  tensor([  101,  9152, 23033,  2006,  5003, 236...   \n",
       "3  [1, 0, 0]  tensor([  101, 19387, 22038,  6342,  2290, 160...   \n",
       "4  [1, 0, 1]  tensor([  101,  7955,  4214,  2017,  9152, 133...   \n",
       "\n",
       "                                      attention_mask  \\\n",
       "0  tensor([1, 1, 1, 1, 0, 0, 0, 0, 0, 0, 0, 0, 0,...   \n",
       "1  tensor([1, 1, 1, 1, 1, 1, 1, 1, 0, 0, 0, 0, 0,...   \n",
       "2  tensor([1, 1, 1, 1, 1, 1, 1, 1, 1, 1, 1, 1, 1,...   \n",
       "3  tensor([1, 1, 1, 1, 1, 1, 1, 1, 1, 1, 1, 1, 1,...   \n",
       "4  tensor([1, 1, 1, 1, 1, 1, 1, 1, 0, 0, 0, 0, 0,...   \n",
       "\n",
       "            transformed_image_path  \n",
       "0  dataset/transformed_images\\0.pt  \n",
       "1  dataset/transformed_images\\1.pt  \n",
       "2  dataset/transformed_images\\2.pt  \n",
       "3  dataset/transformed_images\\3.pt  \n",
       "4  dataset/transformed_images\\4.pt  "
      ]
     },
     "execution_count": 110,
     "metadata": {},
     "output_type": "execute_result"
    }
   ],
   "source": [
    "clean_data = pd.read_csv(\"dataset/dataset_transformed.csv\")\n",
    "clean_data.head()"
   ]
  },
  {
   "cell_type": "code",
   "execution_count": 102,
   "metadata": {},
   "outputs": [],
   "source": [
    "# Create directories to store tensors\n",
    "os.makedirs(\"dataset/input_ids\", exist_ok=True)\n",
    "os.makedirs(\"dataset/attention_masks\", exist_ok=True)"
   ]
  },
  {
   "cell_type": "code",
   "execution_count": 103,
   "metadata": {},
   "outputs": [
    {
     "name": "stdout",
     "output_type": "stream",
     "text": [
      "0    [4, 1, 3]\n",
      "1    [5, 5, 5]\n",
      "2    [0, 0, 0]\n",
      "3    [1, 0, 0]\n",
      "4    [1, 0, 1]\n",
      "Name: labels, dtype: object\n"
     ]
    }
   ],
   "source": [
    "# Convert labels from string representation to list\n",
    "def parse_labels(label_value):\n",
    "    \"\"\"Robustly extract labels from strings or lists\"\"\"\n",
    "    if isinstance(label_value, list):\n",
    "        return label_value  # Already correct format\n",
    "    # Clean strings like \"[4, 1, 3]\" or \"4 1 3\"\n",
    "    cleaned = re.sub(r\"[^0-9]\", \" \", str(label_value))\n",
    "    parts = [int(x) for x in cleaned.split() if x.strip()]\n",
    "    return (parts + [0, 0, 0])[:3]  # Ensure 3 elements\n",
    " \n",
    "\n",
    "clean_data[\"labels\"] = clean_data[\"labels\"].apply(parse_labels)\n",
    "print(clean_data[\"labels\"].head())\n",
    "\n",
    "# Should output:\n",
    "# 0    [4.0, 1.0, 3.0]\n",
    "# 1    [5.0, 5.0, 5.0]\n",
    "# Name: labels, dtype: object\n",
    "\n"
   ]
  },
  {
   "cell_type": "code",
   "execution_count": null,
   "metadata": {},
   "outputs": [],
   "source": [
    "# Convert labels to string format\n",
    "for idx in range(len(clean_data)):\n",
    "    row = clean_data.iloc[idx]\n",
    "    original_labels = parse_labels(row[\"labels\"])\n",
    "    clean_data.at[idx, 'labels'] = original_labels  # Store as list [4,1,3]\n",
    "\n",
    "\n",
    "# Save updated CSV\n",
    "clean_data[\"labels\"] = clean_data[\"labels\"].apply(str)\n",
    "clean_data.to_csv(\"dataset/dataset_transformed.csv\", index=False)"
   ]
  },
  {
   "cell_type": "code",
   "execution_count": 105,
   "metadata": {},
   "outputs": [],
   "source": [
    "# Define the custom dataset class\n",
    "clean_data[\"transformed_image_path\"] = clean_data[\"transformed_image_path\"].str.replace(\"\\\\\", \"/\")# Add this cell after loading clean_data\n"
   ]
  },
  {
   "cell_type": "code",
   "execution_count": 106,
   "metadata": {},
   "outputs": [],
   "source": [
    "# Creating the MultiModalDataset class\n",
    "class MultiModalDataset(Dataset):\n",
    "    def __init__(self, dataframe, tokenizer, max_length=128):\n",
    "        self.dataframe = dataframe\n",
    "        self.tokenizer = tokenizer\n",
    "        self.max_length = max_length\n",
    "\n",
    "    def __len__(self):\n",
    "        return len(self.dataframe)\n",
    "\n",
    "    def __getitem__(self, idx):\n",
    "        row = self.dataframe.iloc[idx]\n",
    "        \n",
    "        # Load pre-saved tensors from files\n",
    "        input_ids = torch.load(os.path.join(\"dataset\", row[\"input_ids\"]))\n",
    "        attention_mask = torch.load(os.path.join(\"dataset\", row[\"attention_mask\"]))\n",
    "        \n",
    "        # Load image\n",
    "        image = torch.load(row[\"transformed_image_path\"])\n",
    "        \n",
    "        # Labels\n",
    "        labels = torch.tensor(row[\"labels\"], dtype=torch.float)\n",
    "        \n",
    "        return input_ids, attention_mask, image, labels\n"
   ]
  },
  {
   "cell_type": "code",
   "execution_count": 107,
   "metadata": {},
   "outputs": [],
   "source": [
    "# Create the dataset\n",
    "dataset = MultiModalDataset(clean_data, tokenizer)"
   ]
  },
  {
   "cell_type": "code",
   "execution_count": 108,
   "metadata": {},
   "outputs": [
    {
     "ename": "OSError",
     "evalue": "[Errno 22] Invalid argument: 'dataset\\\\tensor([  101, 13258,  2377,  2210, 12731,  3372,  2180,  2102,  2022,  2725,\\n         2008,  2153,   102,     0,     0,     0,     0,     0,     0,     0,\\n            0,     0,     0,     0,     0,     0,     0,     0,     0,     0,\\n            0,     0,     0,     0,     0,     0,     0,     0,     0,     0,\\n            0,     0,     0,     0,     0,     0,     0,     0,     0,     0,\\n            0,     0,     0,     0,     0,     0,     0,     0,     0,     0,\\n            0,     0,     0,     0,     0,     0,     0,     0,     0,     0,\\n            0,     0,     0,     0,     0,     0,     0,     0,     0,     0,\\n            0,     0,     0,     0,     0,     0,     0,     0,     0,     0,\\n            0,     0,     0,     0,     0,     0,     0,     0,     0,     0,\\n            0,     0,     0,     0,     0,     0,     0,     0,     0,     0,\\n            0,     0,     0,     0,     0,     0,     0,     0,     0,     0,\\n            0,     0,     0,     0,     0,     0,     0,     0])'",
     "output_type": "error",
     "traceback": [
      "\u001b[1;31m---------------------------------------------------------------------------\u001b[0m",
      "\u001b[1;31mOSError\u001b[0m                                   Traceback (most recent call last)",
      "Cell \u001b[1;32mIn[108], line 5\u001b[0m\n\u001b[0;32m      2\u001b[0m dataloader \u001b[38;5;241m=\u001b[39m DataLoader(dataset, batch_size\u001b[38;5;241m=\u001b[39m\u001b[38;5;241m32\u001b[39m, shuffle\u001b[38;5;241m=\u001b[39m\u001b[38;5;28;01mTrue\u001b[39;00m)\n\u001b[0;32m      4\u001b[0m \u001b[38;5;66;03m# Example: Iterate through the DataLoader\u001b[39;00m\n\u001b[1;32m----> 5\u001b[0m \u001b[38;5;28;01mfor\u001b[39;00m batch \u001b[38;5;129;01min\u001b[39;00m dataloader:\n\u001b[0;32m      6\u001b[0m     input_ids, attention_mask, images, labels \u001b[38;5;241m=\u001b[39m batch\n\u001b[0;32m      7\u001b[0m     \u001b[38;5;28mprint\u001b[39m(\u001b[38;5;124m\"\u001b[39m\u001b[38;5;124mInput IDs:\u001b[39m\u001b[38;5;124m\"\u001b[39m, input_ids\u001b[38;5;241m.\u001b[39mshape)\n",
      "File \u001b[1;32mc:\\Users\\100ab\\AppData\\Local\\Programs\\Python\\Python39\\lib\\site-packages\\torch\\utils\\data\\dataloader.py:630\u001b[0m, in \u001b[0;36m_BaseDataLoaderIter.__next__\u001b[1;34m(self)\u001b[0m\n\u001b[0;32m    627\u001b[0m \u001b[38;5;28;01mif\u001b[39;00m \u001b[38;5;28mself\u001b[39m\u001b[38;5;241m.\u001b[39m_sampler_iter \u001b[38;5;129;01mis\u001b[39;00m \u001b[38;5;28;01mNone\u001b[39;00m:\n\u001b[0;32m    628\u001b[0m     \u001b[38;5;66;03m# TODO(https://github.com/pytorch/pytorch/issues/76750)\u001b[39;00m\n\u001b[0;32m    629\u001b[0m     \u001b[38;5;28mself\u001b[39m\u001b[38;5;241m.\u001b[39m_reset()  \u001b[38;5;66;03m# type: ignore[call-arg]\u001b[39;00m\n\u001b[1;32m--> 630\u001b[0m data \u001b[38;5;241m=\u001b[39m \u001b[38;5;28;43mself\u001b[39;49m\u001b[38;5;241;43m.\u001b[39;49m\u001b[43m_next_data\u001b[49m\u001b[43m(\u001b[49m\u001b[43m)\u001b[49m\n\u001b[0;32m    631\u001b[0m \u001b[38;5;28mself\u001b[39m\u001b[38;5;241m.\u001b[39m_num_yielded \u001b[38;5;241m+\u001b[39m\u001b[38;5;241m=\u001b[39m \u001b[38;5;241m1\u001b[39m\n\u001b[0;32m    632\u001b[0m \u001b[38;5;28;01mif\u001b[39;00m \u001b[38;5;28mself\u001b[39m\u001b[38;5;241m.\u001b[39m_dataset_kind \u001b[38;5;241m==\u001b[39m _DatasetKind\u001b[38;5;241m.\u001b[39mIterable \u001b[38;5;129;01mand\u001b[39;00m \\\n\u001b[0;32m    633\u001b[0m         \u001b[38;5;28mself\u001b[39m\u001b[38;5;241m.\u001b[39m_IterableDataset_len_called \u001b[38;5;129;01mis\u001b[39;00m \u001b[38;5;129;01mnot\u001b[39;00m \u001b[38;5;28;01mNone\u001b[39;00m \u001b[38;5;129;01mand\u001b[39;00m \\\n\u001b[0;32m    634\u001b[0m         \u001b[38;5;28mself\u001b[39m\u001b[38;5;241m.\u001b[39m_num_yielded \u001b[38;5;241m>\u001b[39m \u001b[38;5;28mself\u001b[39m\u001b[38;5;241m.\u001b[39m_IterableDataset_len_called:\n",
      "File \u001b[1;32mc:\\Users\\100ab\\AppData\\Local\\Programs\\Python\\Python39\\lib\\site-packages\\torch\\utils\\data\\dataloader.py:674\u001b[0m, in \u001b[0;36m_SingleProcessDataLoaderIter._next_data\u001b[1;34m(self)\u001b[0m\n\u001b[0;32m    672\u001b[0m \u001b[38;5;28;01mdef\u001b[39;00m \u001b[38;5;21m_next_data\u001b[39m(\u001b[38;5;28mself\u001b[39m):\n\u001b[0;32m    673\u001b[0m     index \u001b[38;5;241m=\u001b[39m \u001b[38;5;28mself\u001b[39m\u001b[38;5;241m.\u001b[39m_next_index()  \u001b[38;5;66;03m# may raise StopIteration\u001b[39;00m\n\u001b[1;32m--> 674\u001b[0m     data \u001b[38;5;241m=\u001b[39m \u001b[38;5;28;43mself\u001b[39;49m\u001b[38;5;241;43m.\u001b[39;49m\u001b[43m_dataset_fetcher\u001b[49m\u001b[38;5;241;43m.\u001b[39;49m\u001b[43mfetch\u001b[49m\u001b[43m(\u001b[49m\u001b[43mindex\u001b[49m\u001b[43m)\u001b[49m  \u001b[38;5;66;03m# may raise StopIteration\u001b[39;00m\n\u001b[0;32m    675\u001b[0m     \u001b[38;5;28;01mif\u001b[39;00m \u001b[38;5;28mself\u001b[39m\u001b[38;5;241m.\u001b[39m_pin_memory:\n\u001b[0;32m    676\u001b[0m         data \u001b[38;5;241m=\u001b[39m _utils\u001b[38;5;241m.\u001b[39mpin_memory\u001b[38;5;241m.\u001b[39mpin_memory(data, \u001b[38;5;28mself\u001b[39m\u001b[38;5;241m.\u001b[39m_pin_memory_device)\n",
      "File \u001b[1;32mc:\\Users\\100ab\\AppData\\Local\\Programs\\Python\\Python39\\lib\\site-packages\\torch\\utils\\data\\_utils\\fetch.py:51\u001b[0m, in \u001b[0;36m_MapDatasetFetcher.fetch\u001b[1;34m(self, possibly_batched_index)\u001b[0m\n\u001b[0;32m     49\u001b[0m         data \u001b[38;5;241m=\u001b[39m \u001b[38;5;28mself\u001b[39m\u001b[38;5;241m.\u001b[39mdataset\u001b[38;5;241m.\u001b[39m__getitems__(possibly_batched_index)\n\u001b[0;32m     50\u001b[0m     \u001b[38;5;28;01melse\u001b[39;00m:\n\u001b[1;32m---> 51\u001b[0m         data \u001b[38;5;241m=\u001b[39m [\u001b[38;5;28mself\u001b[39m\u001b[38;5;241m.\u001b[39mdataset[idx] \u001b[38;5;28;01mfor\u001b[39;00m idx \u001b[38;5;129;01min\u001b[39;00m possibly_batched_index]\n\u001b[0;32m     52\u001b[0m \u001b[38;5;28;01melse\u001b[39;00m:\n\u001b[0;32m     53\u001b[0m     data \u001b[38;5;241m=\u001b[39m \u001b[38;5;28mself\u001b[39m\u001b[38;5;241m.\u001b[39mdataset[possibly_batched_index]\n",
      "File \u001b[1;32mc:\\Users\\100ab\\AppData\\Local\\Programs\\Python\\Python39\\lib\\site-packages\\torch\\utils\\data\\_utils\\fetch.py:51\u001b[0m, in \u001b[0;36m<listcomp>\u001b[1;34m(.0)\u001b[0m\n\u001b[0;32m     49\u001b[0m         data \u001b[38;5;241m=\u001b[39m \u001b[38;5;28mself\u001b[39m\u001b[38;5;241m.\u001b[39mdataset\u001b[38;5;241m.\u001b[39m__getitems__(possibly_batched_index)\n\u001b[0;32m     50\u001b[0m     \u001b[38;5;28;01melse\u001b[39;00m:\n\u001b[1;32m---> 51\u001b[0m         data \u001b[38;5;241m=\u001b[39m [\u001b[38;5;28;43mself\u001b[39;49m\u001b[38;5;241;43m.\u001b[39;49m\u001b[43mdataset\u001b[49m\u001b[43m[\u001b[49m\u001b[43midx\u001b[49m\u001b[43m]\u001b[49m \u001b[38;5;28;01mfor\u001b[39;00m idx \u001b[38;5;129;01min\u001b[39;00m possibly_batched_index]\n\u001b[0;32m     52\u001b[0m \u001b[38;5;28;01melse\u001b[39;00m:\n\u001b[0;32m     53\u001b[0m     data \u001b[38;5;241m=\u001b[39m \u001b[38;5;28mself\u001b[39m\u001b[38;5;241m.\u001b[39mdataset[possibly_batched_index]\n",
      "Cell \u001b[1;32mIn[106], line 15\u001b[0m, in \u001b[0;36mMultiModalDataset.__getitem__\u001b[1;34m(self, idx)\u001b[0m\n\u001b[0;32m     12\u001b[0m row \u001b[38;5;241m=\u001b[39m \u001b[38;5;28mself\u001b[39m\u001b[38;5;241m.\u001b[39mdataframe\u001b[38;5;241m.\u001b[39miloc[idx]\n\u001b[0;32m     14\u001b[0m \u001b[38;5;66;03m# Load pre-saved tensors from files\u001b[39;00m\n\u001b[1;32m---> 15\u001b[0m input_ids \u001b[38;5;241m=\u001b[39m \u001b[43mtorch\u001b[49m\u001b[38;5;241;43m.\u001b[39;49m\u001b[43mload\u001b[49m\u001b[43m(\u001b[49m\u001b[43mos\u001b[49m\u001b[38;5;241;43m.\u001b[39;49m\u001b[43mpath\u001b[49m\u001b[38;5;241;43m.\u001b[39;49m\u001b[43mjoin\u001b[49m\u001b[43m(\u001b[49m\u001b[38;5;124;43m\"\u001b[39;49m\u001b[38;5;124;43mdataset\u001b[39;49m\u001b[38;5;124;43m\"\u001b[39;49m\u001b[43m,\u001b[49m\u001b[43m \u001b[49m\u001b[43mrow\u001b[49m\u001b[43m[\u001b[49m\u001b[38;5;124;43m\"\u001b[39;49m\u001b[38;5;124;43minput_ids\u001b[39;49m\u001b[38;5;124;43m\"\u001b[39;49m\u001b[43m]\u001b[49m\u001b[43m)\u001b[49m\u001b[43m)\u001b[49m\n\u001b[0;32m     16\u001b[0m attention_mask \u001b[38;5;241m=\u001b[39m torch\u001b[38;5;241m.\u001b[39mload(os\u001b[38;5;241m.\u001b[39mpath\u001b[38;5;241m.\u001b[39mjoin(\u001b[38;5;124m\"\u001b[39m\u001b[38;5;124mdataset\u001b[39m\u001b[38;5;124m\"\u001b[39m, row[\u001b[38;5;124m\"\u001b[39m\u001b[38;5;124mattention_mask\u001b[39m\u001b[38;5;124m\"\u001b[39m]))\n\u001b[0;32m     18\u001b[0m \u001b[38;5;66;03m# Load image\u001b[39;00m\n",
      "File \u001b[1;32mc:\\Users\\100ab\\AppData\\Local\\Programs\\Python\\Python39\\lib\\site-packages\\torch\\serialization.py:986\u001b[0m, in \u001b[0;36mload\u001b[1;34m(f, map_location, pickle_module, weights_only, mmap, **pickle_load_args)\u001b[0m\n\u001b[0;32m    983\u001b[0m \u001b[38;5;28;01mif\u001b[39;00m \u001b[38;5;124m'\u001b[39m\u001b[38;5;124mencoding\u001b[39m\u001b[38;5;124m'\u001b[39m \u001b[38;5;129;01mnot\u001b[39;00m \u001b[38;5;129;01min\u001b[39;00m pickle_load_args\u001b[38;5;241m.\u001b[39mkeys():\n\u001b[0;32m    984\u001b[0m     pickle_load_args[\u001b[38;5;124m'\u001b[39m\u001b[38;5;124mencoding\u001b[39m\u001b[38;5;124m'\u001b[39m] \u001b[38;5;241m=\u001b[39m \u001b[38;5;124m'\u001b[39m\u001b[38;5;124mutf-8\u001b[39m\u001b[38;5;124m'\u001b[39m\n\u001b[1;32m--> 986\u001b[0m \u001b[38;5;28;01mwith\u001b[39;00m \u001b[43m_open_file_like\u001b[49m\u001b[43m(\u001b[49m\u001b[43mf\u001b[49m\u001b[43m,\u001b[49m\u001b[43m \u001b[49m\u001b[38;5;124;43m'\u001b[39;49m\u001b[38;5;124;43mrb\u001b[39;49m\u001b[38;5;124;43m'\u001b[39;49m\u001b[43m)\u001b[49m \u001b[38;5;28;01mas\u001b[39;00m opened_file:\n\u001b[0;32m    987\u001b[0m     \u001b[38;5;28;01mif\u001b[39;00m _is_zipfile(opened_file):\n\u001b[0;32m    988\u001b[0m         \u001b[38;5;66;03m# The zipfile reader is going to advance the current file position.\u001b[39;00m\n\u001b[0;32m    989\u001b[0m         \u001b[38;5;66;03m# If we want to actually tail call to torch.jit.load, we need to\u001b[39;00m\n\u001b[0;32m    990\u001b[0m         \u001b[38;5;66;03m# reset back to the original position.\u001b[39;00m\n\u001b[0;32m    991\u001b[0m         orig_position \u001b[38;5;241m=\u001b[39m opened_file\u001b[38;5;241m.\u001b[39mtell()\n",
      "File \u001b[1;32mc:\\Users\\100ab\\AppData\\Local\\Programs\\Python\\Python39\\lib\\site-packages\\torch\\serialization.py:435\u001b[0m, in \u001b[0;36m_open_file_like\u001b[1;34m(name_or_buffer, mode)\u001b[0m\n\u001b[0;32m    433\u001b[0m \u001b[38;5;28;01mdef\u001b[39;00m \u001b[38;5;21m_open_file_like\u001b[39m(name_or_buffer, mode):\n\u001b[0;32m    434\u001b[0m     \u001b[38;5;28;01mif\u001b[39;00m _is_path(name_or_buffer):\n\u001b[1;32m--> 435\u001b[0m         \u001b[38;5;28;01mreturn\u001b[39;00m \u001b[43m_open_file\u001b[49m\u001b[43m(\u001b[49m\u001b[43mname_or_buffer\u001b[49m\u001b[43m,\u001b[49m\u001b[43m \u001b[49m\u001b[43mmode\u001b[49m\u001b[43m)\u001b[49m\n\u001b[0;32m    436\u001b[0m     \u001b[38;5;28;01melse\u001b[39;00m:\n\u001b[0;32m    437\u001b[0m         \u001b[38;5;28;01mif\u001b[39;00m \u001b[38;5;124m'\u001b[39m\u001b[38;5;124mw\u001b[39m\u001b[38;5;124m'\u001b[39m \u001b[38;5;129;01min\u001b[39;00m mode:\n",
      "File \u001b[1;32mc:\\Users\\100ab\\AppData\\Local\\Programs\\Python\\Python39\\lib\\site-packages\\torch\\serialization.py:416\u001b[0m, in \u001b[0;36m_open_file.__init__\u001b[1;34m(self, name, mode)\u001b[0m\n\u001b[0;32m    415\u001b[0m \u001b[38;5;28;01mdef\u001b[39;00m \u001b[38;5;21m__init__\u001b[39m(\u001b[38;5;28mself\u001b[39m, name, mode):\n\u001b[1;32m--> 416\u001b[0m     \u001b[38;5;28msuper\u001b[39m()\u001b[38;5;241m.\u001b[39m\u001b[38;5;21m__init__\u001b[39m(\u001b[38;5;28;43mopen\u001b[39;49m\u001b[43m(\u001b[49m\u001b[43mname\u001b[49m\u001b[43m,\u001b[49m\u001b[43m \u001b[49m\u001b[43mmode\u001b[49m\u001b[43m)\u001b[49m)\n",
      "\u001b[1;31mOSError\u001b[0m: [Errno 22] Invalid argument: 'dataset\\\\tensor([  101, 13258,  2377,  2210, 12731,  3372,  2180,  2102,  2022,  2725,\\n         2008,  2153,   102,     0,     0,     0,     0,     0,     0,     0,\\n            0,     0,     0,     0,     0,     0,     0,     0,     0,     0,\\n            0,     0,     0,     0,     0,     0,     0,     0,     0,     0,\\n            0,     0,     0,     0,     0,     0,     0,     0,     0,     0,\\n            0,     0,     0,     0,     0,     0,     0,     0,     0,     0,\\n            0,     0,     0,     0,     0,     0,     0,     0,     0,     0,\\n            0,     0,     0,     0,     0,     0,     0,     0,     0,     0,\\n            0,     0,     0,     0,     0,     0,     0,     0,     0,     0,\\n            0,     0,     0,     0,     0,     0,     0,     0,     0,     0,\\n            0,     0,     0,     0,     0,     0,     0,     0,     0,     0,\\n            0,     0,     0,     0,     0,     0,     0,     0,     0,     0,\\n            0,     0,     0,     0,     0,     0,     0,     0])'"
     ]
    }
   ],
   "source": [
    "# Create the DataLoader\n",
    "dataloader = DataLoader(dataset, batch_size=32, shuffle=True)\n",
    "\n",
    "# Example: Iterate through the DataLoader\n",
    "for batch in dataloader:\n",
    "    input_ids, attention_mask, images, labels = batch\n",
    "    print(\"Input IDs:\", input_ids.shape)\n",
    "    print(\"Attention Mask:\", attention_mask.shape)\n",
    "    print(\"Images:\", images.shape)\n",
    "    print(\"Labels:\", labels.shape)\n",
    "    break"
   ]
  },
  {
   "cell_type": "code",
   "execution_count": 109,
   "metadata": {},
   "outputs": [
    {
     "name": "stdout",
     "output_type": "stream",
     "text": [
      "0    [4, 1, 3]\n",
      "1    [5, 5, 5]\n",
      "2    [0, 0, 0]\n",
      "3    [1, 0, 0]\n",
      "4    [1, 0, 1]\n",
      "Name: labels, dtype: object\n"
     ]
    }
   ],
   "source": [
    "print(pd.read_csv(\"dataset/dataset_transformed.csv\")[\"labels\"].head())\n",
    "# Should show \"[4, 1, 3]\", not raw lists"
   ]
  },
  {
   "cell_type": "code",
   "execution_count": null,
   "metadata": {},
   "outputs": [],
   "source": []
  },
  {
   "cell_type": "code",
   "execution_count": null,
   "metadata": {},
   "outputs": [],
   "source": []
  },
  {
   "cell_type": "code",
   "execution_count": null,
   "metadata": {},
   "outputs": [],
   "source": []
  },
  {
   "cell_type": "code",
   "execution_count": null,
   "metadata": {},
   "outputs": [],
   "source": []
  },
  {
   "cell_type": "code",
   "execution_count": null,
   "metadata": {},
   "outputs": [],
   "source": []
  }
 ],
 "metadata": {
  "kernelspec": {
   "display_name": "Python 3",
   "language": "python",
   "name": "python3"
  },
  "language_info": {
   "codemirror_mode": {
    "name": "ipython",
    "version": 3
   },
   "file_extension": ".py",
   "mimetype": "text/x-python",
   "name": "python",
   "nbconvert_exporter": "python",
   "pygments_lexer": "ipython3",
   "version": "3.9.6"
  }
 },
 "nbformat": 4,
 "nbformat_minor": 2
}
