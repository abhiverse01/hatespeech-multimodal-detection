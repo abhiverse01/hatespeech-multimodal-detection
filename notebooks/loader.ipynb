{
 "cells": [
  {
   "cell_type": "code",
   "execution_count": 2,
   "metadata": {},
   "outputs": [],
   "source": [
    "import pandas as pd"
   ]
  },
  {
   "cell_type": "code",
   "execution_count": 3,
   "metadata": {},
   "outputs": [
    {
     "name": "stdout",
     "output_type": "stream",
     "text": [
      "                                          tweet_text  \\\n",
      "0       @FriskDontMiss Nigga https://t.co/cAsaLWEpue   \n",
      "1     My horses are retarded https://t.co/HYhqc6d5WN   \n",
      "2  “NIGGA ON MA MOMMA YOUNGBOY BE SPITTING REAL S...   \n",
      "3  RT xxSuGVNGxx: I ran into this HOLY NIGGA TODA...   \n",
      "4  “EVERYbody calling you Nigger now!” https://t....   \n",
      "\n",
      "                                         image_path     labels  \n",
      "0  dataset/images/2005-04-28 09:09:13.714016256.jpg  [4, 1, 3]  \n",
      "1  dataset/images/2003-09-08 11:20:48.816660480.jpg  [5, 5, 5]  \n",
      "2  dataset/images/2005-02-20 19:22:48.075374593.jpg  [0, 0, 0]  \n",
      "3  dataset/images/2005-04-26 23:35:34.635618305.jpg  [1, 0, 0]  \n",
      "4  dataset/images/2002-10-22 02:08:00.215592966.jpg  [1, 0, 1]  \n"
     ]
    }
   ],
   "source": [
    "df = pd.read_csv('/Users/abhishekshah/hatespeech-multimodal-detection/notebooks/dataset/dataset.csv')\n",
    "\n",
    "print(df.head())"
   ]
  },
  {
   "cell_type": "code",
   "execution_count": 4,
   "metadata": {},
   "outputs": [
    {
     "data": {
      "text/html": [
       "<div>\n",
       "<style scoped>\n",
       "    .dataframe tbody tr th:only-of-type {\n",
       "        vertical-align: middle;\n",
       "    }\n",
       "\n",
       "    .dataframe tbody tr th {\n",
       "        vertical-align: top;\n",
       "    }\n",
       "\n",
       "    .dataframe thead th {\n",
       "        text-align: right;\n",
       "    }\n",
       "</style>\n",
       "<table border=\"1\" class=\"dataframe\">\n",
       "  <thead>\n",
       "    <tr style=\"text-align: right;\">\n",
       "      <th></th>\n",
       "      <th>tweet_text</th>\n",
       "      <th>image_path</th>\n",
       "      <th>labels</th>\n",
       "    </tr>\n",
       "  </thead>\n",
       "  <tbody>\n",
       "    <tr>\n",
       "      <th>0</th>\n",
       "      <td>@FriskDontMiss Nigga https://t.co/cAsaLWEpue</td>\n",
       "      <td>dataset/images/2005-04-28 09:09:13.714016256.jpg</td>\n",
       "      <td>[4, 1, 3]</td>\n",
       "    </tr>\n",
       "    <tr>\n",
       "      <th>1</th>\n",
       "      <td>My horses are retarded https://t.co/HYhqc6d5WN</td>\n",
       "      <td>dataset/images/2003-09-08 11:20:48.816660480.jpg</td>\n",
       "      <td>[5, 5, 5]</td>\n",
       "    </tr>\n",
       "    <tr>\n",
       "      <th>2</th>\n",
       "      <td>“NIGGA ON MA MOMMA YOUNGBOY BE SPITTING REAL S...</td>\n",
       "      <td>dataset/images/2005-02-20 19:22:48.075374593.jpg</td>\n",
       "      <td>[0, 0, 0]</td>\n",
       "    </tr>\n",
       "    <tr>\n",
       "      <th>3</th>\n",
       "      <td>RT xxSuGVNGxx: I ran into this HOLY NIGGA TODA...</td>\n",
       "      <td>dataset/images/2005-04-26 23:35:34.635618305.jpg</td>\n",
       "      <td>[1, 0, 0]</td>\n",
       "    </tr>\n",
       "    <tr>\n",
       "      <th>4</th>\n",
       "      <td>“EVERYbody calling you Nigger now!” https://t....</td>\n",
       "      <td>dataset/images/2002-10-22 02:08:00.215592966.jpg</td>\n",
       "      <td>[1, 0, 1]</td>\n",
       "    </tr>\n",
       "    <tr>\n",
       "      <th>...</th>\n",
       "      <td>...</td>\n",
       "      <td>...</td>\n",
       "      <td>...</td>\n",
       "    </tr>\n",
       "    <tr>\n",
       "      <th>149818</th>\n",
       "      <td>@svdate @gtconway3d I would just say hes Donny...</td>\n",
       "      <td>dataset/images/2005-04-22 11:52:14.472048640.jpg</td>\n",
       "      <td>[2, 5, 0]</td>\n",
       "    </tr>\n",
       "    <tr>\n",
       "      <th>149819</th>\n",
       "      <td>@Cheftime_Dev congrats my nigga keep on grindi...</td>\n",
       "      <td>dataset/images/2005-03-09 11:36:38.786846720.jpg</td>\n",
       "      <td>[0, 0, 0]</td>\n",
       "    </tr>\n",
       "    <tr>\n",
       "      <th>149820</th>\n",
       "      <td>My nigga big shitty https://t.co/e0snJGBgH9</td>\n",
       "      <td>dataset/images/2005-01-28 19:50:58.540851200.jpg</td>\n",
       "      <td>[0, 1, 0]</td>\n",
       "    </tr>\n",
       "    <tr>\n",
       "      <th>149821</th>\n",
       "      <td>did she just say “my nigga” to Rich? &amp;amp; she...</td>\n",
       "      <td>dataset/images/2005-01-09 10:58:29.233188865.jpg</td>\n",
       "      <td>[1, 0, 0]</td>\n",
       "    </tr>\n",
       "    <tr>\n",
       "      <th>149822</th>\n",
       "      <td>This nigga Joe Budden said thanos got a galact...</td>\n",
       "      <td>dataset/images/2005-04-28 01:58:34.364530691.jpg</td>\n",
       "      <td>[0, 0, 3]</td>\n",
       "    </tr>\n",
       "  </tbody>\n",
       "</table>\n",
       "<p>149823 rows × 3 columns</p>\n",
       "</div>"
      ],
      "text/plain": [
       "                                               tweet_text  \\\n",
       "0            @FriskDontMiss Nigga https://t.co/cAsaLWEpue   \n",
       "1          My horses are retarded https://t.co/HYhqc6d5WN   \n",
       "2       “NIGGA ON MA MOMMA YOUNGBOY BE SPITTING REAL S...   \n",
       "3       RT xxSuGVNGxx: I ran into this HOLY NIGGA TODA...   \n",
       "4       “EVERYbody calling you Nigger now!” https://t....   \n",
       "...                                                   ...   \n",
       "149818  @svdate @gtconway3d I would just say hes Donny...   \n",
       "149819  @Cheftime_Dev congrats my nigga keep on grindi...   \n",
       "149820        My nigga big shitty https://t.co/e0snJGBgH9   \n",
       "149821  did she just say “my nigga” to Rich? &amp; she...   \n",
       "149822  This nigga Joe Budden said thanos got a galact...   \n",
       "\n",
       "                                              image_path     labels  \n",
       "0       dataset/images/2005-04-28 09:09:13.714016256.jpg  [4, 1, 3]  \n",
       "1       dataset/images/2003-09-08 11:20:48.816660480.jpg  [5, 5, 5]  \n",
       "2       dataset/images/2005-02-20 19:22:48.075374593.jpg  [0, 0, 0]  \n",
       "3       dataset/images/2005-04-26 23:35:34.635618305.jpg  [1, 0, 0]  \n",
       "4       dataset/images/2002-10-22 02:08:00.215592966.jpg  [1, 0, 1]  \n",
       "...                                                  ...        ...  \n",
       "149818  dataset/images/2005-04-22 11:52:14.472048640.jpg  [2, 5, 0]  \n",
       "149819  dataset/images/2005-03-09 11:36:38.786846720.jpg  [0, 0, 0]  \n",
       "149820  dataset/images/2005-01-28 19:50:58.540851200.jpg  [0, 1, 0]  \n",
       "149821  dataset/images/2005-01-09 10:58:29.233188865.jpg  [1, 0, 0]  \n",
       "149822  dataset/images/2005-04-28 01:58:34.364530691.jpg  [0, 0, 3]  \n",
       "\n",
       "[149823 rows x 3 columns]"
      ]
     },
     "execution_count": 4,
     "metadata": {},
     "output_type": "execute_result"
    }
   ],
   "source": [
    "pd.read_csv('/Users/abhishekshah/hatespeech-multimodal-detection/notebooks/dataset/dataset.csv')"
   ]
  },
  {
   "cell_type": "code",
   "execution_count": 9,
   "metadata": {},
   "outputs": [
    {
     "name": "stdout",
     "output_type": "stream",
     "text": [
      "                                          tweet_text  \\\n",
      "0       @FriskDontMiss Nigga https://t.co/cAsaLWEpue   \n",
      "1     My horses are retarded https://t.co/HYhqc6d5WN   \n",
      "2  “NIGGA ON MA MOMMA YOUNGBOY BE SPITTING REAL S...   \n",
      "3  RT xxSuGVNGxx: I ran into this HOLY NIGGA TODA...   \n",
      "\n",
      "                                         image_path     labels  \n",
      "0  dataset/images/2005-04-28 09:09:13.714016256.jpg  [4, 1, 3]  \n",
      "1  dataset/images/2003-09-08 11:20:48.816660480.jpg  [5, 5, 5]  \n",
      "2  dataset/images/2005-02-20 19:22:48.075374593.jpg  [0, 0, 0]  \n",
      "3  dataset/images/2005-04-26 23:35:34.635618305.jpg  [1, 0, 0]  \n"
     ]
    }
   ],
   "source": [
    "print(df.head(4))"
   ]
  },
  {
   "cell_type": "code",
   "execution_count": null,
   "metadata": {},
   "outputs": [],
   "source": []
  }
 ],
 "metadata": {
  "kernelspec": {
   "display_name": "base",
   "language": "python",
   "name": "python3"
  },
  "language_info": {
   "codemirror_mode": {
    "name": "ipython",
    "version": 3
   },
   "file_extension": ".py",
   "mimetype": "text/x-python",
   "name": "python",
   "nbconvert_exporter": "python",
   "pygments_lexer": "ipython3",
   "version": "3.12.4"
  }
 },
 "nbformat": 4,
 "nbformat_minor": 2
}
